{
 "cells": [
  {
   "cell_type": "markdown",
   "id": "4541a8db-b561-4c71-a0e9-21466deda7ff",
   "metadata": {},
   "source": [
    "# Create distributed cylinders\n",
    "This note book uses MCMRSimulator v0.9.0 and custom function `repel_distributed_radius()` in `repel_cylinders.jl` to generate parallel cylinder substrates with Gamma-distributed diameters for our simulation. The custom function is needed because MCMRSimulator's built-in function `random_positions_radii()` generated cylinder packing configurations that were highly inhomogeneous, which resulted in clusters of cylinders and large gaps between clusters. This affected the consistency and accuracy of our simulated signal. `repel_distributed_radius()` takes the output of `random_positions_radii()` and add repulsions between cylinders to create a more homogeneous packing configuration. It returns the positions and radius of all cylinders in a block. The `Cylinders()` constructor then creates the cylinder object in the simulation with the given position and radius and infinitely repeats the block to fill in all space. In later versions of MCMRSimulator, such as the v0.11.0 we used for the example simulation, the custom function has been integrated into the `random_positions_radii()`, therefore using `random_positions_radii()` alone is sufficient."
   ]
  },
  {
   "cell_type": "code",
   "execution_count": 1,
   "id": "c6f91b3a-5bbd-4ee1-8f95-66be87ccb725",
   "metadata": {},
   "outputs": [
    {
     "name": "stderr",
     "output_type": "stream",
     "text": [
      "\u001b[32m\u001b[1m  Activating\u001b[22m\u001b[39m project at `~/Library/CloudStorage/OneDrive-Nexus365/projects/Papers/2024 MRM/gitrepo/MT-and-permeability-effect-on-two-compartment-dMRI-WM-model/julia-envs/old_mcmr`\n",
      "\u001b[92m\u001b[1mPrecompiling\u001b[22m\u001b[39m project...\n",
      "  11090.7 ms\u001b[32m  ✓ \u001b[39m\u001b[90mArrayInterface → ArrayInterfaceBandedMatricesExt\u001b[39m\n",
      "  14032.3 ms\u001b[32m  ✓ \u001b[39m\u001b[90mSixel\u001b[39m\n",
      "  14158.4 ms\u001b[32m  ✓ \u001b[39m\u001b[90mJpegTurbo\u001b[39m\n",
      "  14234.0 ms\u001b[32m  ✓ \u001b[39m\u001b[90mPNGFiles\u001b[39m\n",
      "   5122.6 ms\u001b[32m  ✓ \u001b[39m\u001b[90mImageAxes\u001b[39m\n",
      "   2951.3 ms\u001b[32m  ✓ \u001b[39m\u001b[90mWebP\u001b[39m\n",
      "   1246.3 ms\u001b[32m  ✓ \u001b[39m\u001b[90mFiniteDiff → FiniteDiffBandedMatricesExt\u001b[39m\n",
      "   1514.0 ms\u001b[32m  ✓ \u001b[39m\u001b[90mImageMetadata\u001b[39m\n",
      "   1961.5 ms\u001b[32m  ✓ \u001b[39m\u001b[90mNetpbm\u001b[39m\n",
      "   6989.5 ms\u001b[32m  ✓ \u001b[39m\u001b[90mRoots → RootsForwardDiffExt\u001b[39m\n",
      "   3797.6 ms\u001b[32m  ✓ \u001b[39m\u001b[90mNLSolversBase\u001b[39m\n",
      "   1490.4 ms\u001b[32m  ✓ \u001b[39m\u001b[90mLineSearches\u001b[39m\n",
      "   2411.9 ms\u001b[32m  ✓ \u001b[39m\u001b[90mOptim\u001b[39m\n",
      "  14118.4 ms\u001b[32m  ✓ \u001b[39m\u001b[90mDistributions → DistributionsTestExt\u001b[39m\n",
      "  34806.2 ms\u001b[32m  ✓ \u001b[39m\u001b[90mTiffImages\u001b[39m\n",
      "  87721.2 ms\u001b[32m  ✓ \u001b[39m\u001b[90mMakie\u001b[39m\n",
      "  24046.8 ms\u001b[32m  ✓ \u001b[39mCairoMakie\n",
      "  75351.6 ms\u001b[32m  ✓ \u001b[39mMCMRSimulator\n",
      "  18 dependencies successfully precompiled in 207 seconds. 333 already precompiled.\n",
      "\u001b[36m\u001b[1m[ \u001b[22m\u001b[39m\u001b[36m\u001b[1mInfo: \u001b[22m\u001b[39mPrecompiling MCMRSimulator [eac06e4d-a854-4bf6-b44f-54c98b0401d1] (cache misses: wrong dep version loaded (10), dep missing source (2))\n"
     ]
    },
    {
     "data": {
      "text/plain": [
       "repel_distributed_radius"
      ]
     },
     "execution_count": 1,
     "metadata": {},
     "output_type": "execute_result"
    }
   ],
   "source": [
    "# Load the pkg module to activate the correct environment\n",
    "using Pkg\n",
    "Pkg.activate(\"../julia-envs/old_mcmr\")\n",
    "Pkg.instantiate()\n",
    "# import the relevant packages\n",
    "using MCMRSimulator\n",
    "using Printf\n",
    "include(\"../repel_cylinders.jl\")"
   ]
  },
  {
   "cell_type": "code",
   "execution_count": 2,
   "id": "2e50d0a6-9d8e-4f87-9065-f6bf28ead029",
   "metadata": {},
   "outputs": [
    {
     "ename": "LoadError",
     "evalue": "UndefVarError: `mean` not defined in `Main`\nSuggestion: check for spelling errors or missing imports.\nHint: a global variable of this name may be made accessible by importing Statistics in the current active module Main\nHint: a global variable of this name may be made accessible by importing StatsBase in the current active module Main\nHint: a global variable of this name may be made accessible by importing Distributions in the current active module Main",
     "output_type": "error",
     "traceback": [
      "UndefVarError: `mean` not defined in `Main`\nSuggestion: check for spelling errors or missing imports.\nHint: a global variable of this name may be made accessible by importing Statistics in the current active module Main\nHint: a global variable of this name may be made accessible by importing StatsBase in the current active module Main\nHint: a global variable of this name may be made accessible by importing Distributions in the current active module Main",
      "",
      "Stacktrace:",
      " [1] \u001b[0m\u001b[1mrepel_distributed_radius\u001b[22m\u001b[0m\u001b[1m(\u001b[22m\u001b[90mradii\u001b[39m::\u001b[0mVector\u001b[90m{Float64}\u001b[39m, \u001b[90mpos_in\u001b[39m::\u001b[0mVector\u001b[90m{StaticArraysCore.SVector{2, Float64}}\u001b[39m, \u001b[90mrepeatsize\u001b[39m::\u001b[0mInt64; \u001b[90mmaxiter\u001b[39m::\u001b[0mInt64, \u001b[90mrepulsion_strength\u001b[39m::\u001b[0mFloat64\u001b[0m\u001b[1m)\u001b[22m",
      "\u001b[90m   @\u001b[39m \u001b[35mMain\u001b[39m \u001b[90m~/Library/CloudStorage/OneDrive-Nexus365/projects/Papers/2024 MRM/gitrepo/MT-and-permeability-effect-on-two-compartment-dMRI-WM-model/\u001b[39m\u001b[90m\u001b[4mrepel_cylinders.jl:109\u001b[24m\u001b[39m",
      " [2] top-level scope",
      "\u001b[90m   @\u001b[39m \u001b[90m\u001b[4mIn[2]:16\u001b[24m\u001b[39m"
     ]
    }
   ],
   "source": [
    "T2s = 10:10:300       # Define effective T2 (MT strength) range (ms)\n",
    "T2_bound=1e-3         # Bound pool T2 to model surface relaxivity (ms)\n",
    "rho=0.65              # Cylinder volume density\n",
    "r_mean = 2            # set the mean cylinder radius \n",
    "r_var = 1             # set the variance of cylinder radius\n",
    "rep = r_mean*100          # (half of) the distance over which the substrate repeats itself spatially\n",
    "t_dwell = 30          # Dwell time of isochromats in the bound pool, controls the strength of surface relaxivity\n",
    "svratio = 2/r_mean             # Calculate the surface to volume ratio that is used to calculate the surface density later\n",
    "\n",
    "# Make directories to store cylinders\n",
    "mkpath(\"MT_cyl\")\n",
    "mkpath(\"perm_cyl\")\n",
    "\n",
    "# Create a substrate with parallel cylinders of distributed diameters\n",
    "res = MCMRSimulator.random_positions_radii([rep, rep], rho, 2, mean=r_mean, variance=r_var)            # res contains two lists [1] is the positions of the cylinder centres (circle centres in 2d), [2] is the radii of all cylinders\n",
    "repeled = repel_distributed_radius(res[2], res[1], rep, maxiter=5000, repulsion_strength=1e-3)\n",
    "for T2 = T2s                               # Loop through the desired MT range\n",
    "    surf_dens = 1/svratio*t_dwell/T2       # Surface density of isochromats that achieves the given T2, it's the ratio of isochromat density on the substrate (cylinder) and isochromat density in the volume of interest\n",
    "    rng_geom = Cylinders(position=res[1], radius=res[2], dwell_time=t_dwell, density=surf_dens, repeats=[rep, rep], R2_surface=1/T2_bound)                     # Create the cylinder substrate object\n",
    "    MCMRSimulator.write_geometry(\"./MT_cyl/cylinders_MT_\"* string(T2) *\"_sus_0_perm_0.000_rmean_\"*@sprintf(\"%.2f\",r_mean)*\"_density_0.65.json\", rng_geom)      # Save the substrate object\n",
    "end\n",
    "for perm in 0:0.001:0.02                   # Loop through the desired permeability range\n",
    "    rng_geom = Cylinders(position=res[1], radius=res[2], permeability=perm, repeats=[rep, rep])                                                                       # Create the cylinder substrate object \n",
    "    MCMRSimulator.write_geometry(\"./perm_cyl/cylinders_MT_0_sus_0_perm_\"*@sprintf(\"%.3f\",perm)*\"_rmean_\"*@sprintf(\"%.2f\",r_mean)*\"_density_0.65.json\", rng_geom)      # Save the substrate object      \n",
    "end"
   ]
  },
  {
   "cell_type": "code",
   "execution_count": null,
   "id": "a9cd55b0-675c-422f-8f69-de503ffbd390",
   "metadata": {},
   "outputs": [],
   "source": []
  }
 ],
 "metadata": {
  "kernelspec": {
   "display_name": "Julia 1.11.1",
   "language": "julia",
   "name": "julia-1.11"
  },
  "language_info": {
   "file_extension": ".jl",
   "mimetype": "application/julia",
   "name": "julia",
   "version": "1.11.1"
  }
 },
 "nbformat": 4,
 "nbformat_minor": 5
}
