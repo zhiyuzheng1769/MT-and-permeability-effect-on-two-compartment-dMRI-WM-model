{
 "cells": [
  {
   "cell_type": "markdown",
   "id": "71333ad9",
   "metadata": {},
   "source": [
    "# Demo for generating substrates and running a single simulation\n",
    "This notebook is intended as a demo that reproduces a single simulation with generic parameters for the substrate geometry and the sequence applied. Readers are free to alter the parameters and use this as a base example for their own explorations. For a more general introduction to MCMRSimulator, see [its dedicated tutorial](https://open.win.ox.ac.uk/pages/ndcn0236/mcmrsimulator.jl/v0.11/). Note this demo uses the latest stable version of MCMRSimulator as of 2025-1, v0.11.0 and in our paper we used v0.9.0."
   ]
  },
  {
   "cell_type": "markdown",
   "id": "7482662e",
   "metadata": {},
   "source": [
    "## Set up environment and import packages"
   ]
  },
  {
   "cell_type": "code",
   "execution_count": 1,
   "id": "88cb630e",
   "metadata": {
    "scrolled": true
   },
   "outputs": [
    {
     "name": "stderr",
     "output_type": "stream",
     "text": [
      "\u001b[32m\u001b[1m  Activating\u001b[22m\u001b[39m project at `~/Work/code/MT-and-permeability-effect-on-two-compartment-dMRI-WM-model`\n",
      "\u001b[92m\u001b[1mPrecompiling\u001b[22m\u001b[39m project...\n",
      "   1284.8 ms\u001b[32m  ✓ \u001b[39m\u001b[90mPolynomials → PolynomialsChainRulesCoreExt\u001b[39m\n",
      "   1210.9 ms\u001b[32m  ✓ \u001b[39m\u001b[90mPolynomials → PolynomialsFFTWExt\u001b[39m\n",
      "   1279.2 ms\u001b[32m  ✓ \u001b[39m\u001b[90mPolynomials → PolynomialsMutableArithmeticsExt\u001b[39m\n",
      "   1708.4 ms\u001b[32m  ✓ \u001b[39m\u001b[90mPolynomials → PolynomialsMakieCoreExt\u001b[39m\n",
      "   6546.2 ms\u001b[32m  ✓ \u001b[39mMRIBuilder\n",
      "   8851.4 ms\u001b[32m  ✓ \u001b[39mMRIBuilder → MakieMRIBuilder\n",
      "  11293.8 ms\u001b[32m  ✓ \u001b[39mMCMRSimulator\n",
      "         \u001b[91m  ✗ \u001b[39mMCMRSimulator → MakieMCMRSimulator\n",
      "  7 dependencies successfully precompiled in 32 seconds. 397 already precompiled.\n",
      "  \u001b[91m1\u001b[39m dependency errored.\n",
      "  For a report of the errors see `julia> err`. To retry use `pkg> precompile`\n"
     ]
    },
    {
     "ename": "LoadError",
     "evalue": "InterruptException:",
     "output_type": "error",
     "traceback": [
      "InterruptException:",
      "",
      "Stacktrace:",
      "  [1] _include_from_serialized(pkg::Base.PkgId, path::String, ocachepath::String, depmods::Vector{Any}, ignore_native::Nothing; register::Bool)",
      "    @ Base ./loading.jl:1245",
      "  [2] _include_from_serialized (repeats 2 times)",
      "    @ ./loading.jl:1210 [inlined]",
      "  [3] _require_search_from_serialized(pkg::Base.PkgId, sourcepath::String, build_id::UInt128, stalecheck::Bool; reasons::Dict{String, Int64}, DEPOT_PATH::Vector{String})",
      "    @ Base ./loading.jl:2041",
      "  [4] _require(pkg::Base.PkgId, env::String)",
      "    @ Base ./loading.jl:2527",
      "  [5] __require_prelocked(uuidkey::Base.PkgId, env::String)",
      "    @ Base ./loading.jl:2388",
      "  [6] #invoke_in_world#3",
      "    @ ./essentials.jl:1089 [inlined]",
      "  [7] invoke_in_world",
      "    @ ./essentials.jl:1086 [inlined]",
      "  [8] _require_prelocked(uuidkey::Base.PkgId, env::String)",
      "    @ Base ./loading.jl:2375",
      "  [9] macro expansion",
      "    @ ./loading.jl:2314 [inlined]",
      " [10] macro expansion",
      "    @ ./lock.jl:273 [inlined]",
      " [11] __require(into::Module, mod::Symbol)",
      "    @ Base ./loading.jl:2271",
      " [12] #invoke_in_world#3",
      "    @ ./essentials.jl:1089 [inlined]",
      " [13] invoke_in_world",
      "    @ ./essentials.jl:1086 [inlined]",
      " [14] require(into::Module, mod::Symbol)",
      "    @ Base ./loading.jl:2260"
     ]
    }
   ],
   "source": [
    "using Pkg\n",
    "# Activate the specific environment with the correct packages and version \n",
    "Pkg.activate(\".\")\n",
    "Pkg.instantiate()\n",
    "# Import packages\n",
    "using MCMRSimulator\n",
    "using MRIBuilder\n",
    "using CairoMakie\n",
    "using Statistics\n",
    "using DelimitedFiles\n",
    "using FileIO\n",
    "using Printf\n",
    "using JLD2"
   ]
  },
  {
   "cell_type": "code",
   "execution_count": null,
   "id": "d9c0f69b",
   "metadata": {},
   "outputs": [],
   "source": [
    "# Create output directory if it does not exist\n",
    "mkpath(\"example_output\")"
   ]
  },
  {
   "cell_type": "markdown",
   "id": "55796859",
   "metadata": {},
   "source": [
    "## Create substrates\n",
    "To generate parallel cylinder substrates for our simulation, we will call `random_positions_radii()` for generating positions and radius values for a given volume density value and radius distribution (Gamma distribution characterised by mean and variance) and call `Cylinders()` to create the substrate object in simulation."
   ]
  },
  {
   "cell_type": "code",
   "execution_count": null,
   "id": "f3fa0dee",
   "metadata": {},
   "outputs": [],
   "source": [
    "\n",
    "# Set various parameters for the substrate\n",
    "T2 = 100                          # effective T2 caused by MT (ms)\n",
    "rho = 0.65                        # cylinder volume density\n",
    "r = 1                             # cylinder radius (μm)\n",
    "rep = r*20                        # (half of) the distance over which the substrate repeats itself spatially\n",
    "\n",
    "# Set MT (surface relaxivity) and permeability\n",
    "T2_bound = 1e-3                   # Bound pool T2 to model surface relaxivity (ms)\n",
    "t_dwell = 30                      # Dwell time of isochromats in the bound pool, controls the strength of surface relaxivity\n",
    "svratio = 2/r                     # Calculate the surface to volume ratio that is used to calculate the surface density later\n",
    "surf_dens = 1/svratio*t_dwell/T2  # Surface density of isochromats that achieves the given T2, it's the ratio of isochromat density on the substrate (cylinder) and isochromat density in the volume of interest\n",
    "perm = 0.005                      # permeability, probability for an isochromat to pass through the cylinder wall when they encounter\n",
    "\n",
    "# Create a substrate with parallel cylinders of fixed diameters \n",
    "res = MCMRSimulator.random_positions_radii([rep, rep], rho, 2, mean=r, variance=0, max_iter=1000, repulsion_strength=3e-3)                                                     # generate cylinder center positions based on slightly larger radius to avoid overlapping\n",
    "# repeled = repel_fixed_radius(r*1.001, res[1], rep*1.001, maxiter=1000, repulsion_strength=3e-3)                                                                  # use the custom function to refine the packing configuration and make it more homogeneous\n",
    "fixed_d_cyl = Cylinders(position=res[1], radius=r, dwell_time=t_dwell, density=surf_dens, permeability=perm, repeats=[rep, rep], R2_surface=1/T2_bound)         # create the cylinders object with refined positions\n",
    "MCMRSimulator.write_geometry(\"example_output/cylinders_MT_\"* string(T2) *\"_sus_0_perm_\"*@sprintf(\"%.3f\",perm)*\"_rmean_\"*@sprintf(\"%.2f\",r)*\"_density_0.65.json\", fixed_d_cyl)  # it's possible to save the object as a .json file to be read by MCMRSimulator later \n"
   ]
  },
  {
   "cell_type": "markdown",
   "id": "83ce43ba",
   "metadata": {},
   "source": [
    "Similarly, we can also create substrates containing parallel cylinders with Gamma-distributed diameters, note this may take a bit longer than the fixed diameter case."
   ]
  },
  {
   "cell_type": "code",
   "execution_count": null,
   "id": "36481cd4",
   "metadata": {},
   "outputs": [],
   "source": [
    "\n",
    "# Set various parameters for the substrate\n",
    "T2 = 100                          # effective T2 caused by MT (ms)\n",
    "rho = 0.65                        # cylinder volume density\n",
    "r = 1                             # mean cylinder radius (μm)\n",
    "r_var = 1                         # variance of cylinder radius (μm^2)\n",
    "rep = r*20                        # (half of) the distance over which the substrate repeats itself spatially\n",
    "\n",
    "# Set MT (surface relaxivity) and permeability\n",
    "T2_bound = 1e-3                   # Bound pool T2 to model surface relaxivity (ms)\n",
    "t_dwell = 30                      # Dwell time of isochromats in the bound pool, controls the strength of surface relaxivity\n",
    "svratio = 2/r                     # Calculate the surface to volume ratio that is used to calculate the surface density later\n",
    "surf_dens = 1/svratio*t_dwell/T2  # Surface density of isochromats that achieves the given T2, it's the ratio of isochromat density on the substrate (cylinder) and isochromat density in the volume of interest\n",
    "perm = 0.005                      # permeability, probability for an isochromat to pass through the cylinder wall when they encounter\n",
    "\n",
    "# Create a substrate with parallel cylinders of distributed diameters \n",
    "res = MCMRSimulator.random_positions_radii([rep, rep], rho, 2, mean=r, variance=r_var, max_iter=1000, repulsion_strength=1e-2)                                                                               # generate cylinder center positions and radii following the mean and variance\n",
    "# repeled = repel_distributed_radius(res[2], res[1], rep, maxiter=1000, repulsion_strength=1e-2)                                                                   # use the custom function to refine the packing configuration and make it more homogeneous\n",
    "distr_d_cyl = Cylinders(position=res[1], radius=res[2], dwell_time=t_dwell, density=surf_dens, permeability=perm, repeats=[rep, rep], R2_surface=1/T2_bound)         # create the cylinders object with refined positions\n",
    "MCMRSimulator.write_geometry(\"example_output/cylinders_MT_\"* string(T2) *\"_sus_0_perm_\"*@sprintf(\"%.3f\",perm)*\"_rmean_\"*@sprintf(\"%.2f\",r)*\"_rvar_\"*@sprintf(\"%.2f\", r_var)*\"_density_0.65.json\", distr_d_cyl)  # it's possible to save the object as a .json file to be read by MCMRSimulator later \n"
   ]
  },
  {
   "cell_type": "markdown",
   "id": "8d00200f",
   "metadata": {},
   "source": [
    "It is possible to plot the geometry to visually check it"
   ]
  },
  {
   "cell_type": "code",
   "execution_count": null,
   "id": "2cd2a15e",
   "metadata": {},
   "outputs": [],
   "source": [
    "f = plot(PlotPlane(size=20), fixed_d_cyl)"
   ]
  },
  {
   "cell_type": "code",
   "execution_count": null,
   "id": "b80d94b2",
   "metadata": {},
   "outputs": [],
   "source": [
    "f = plot(PlotPlane(size=20), distr_d_cyl)"
   ]
  },
  {
   "cell_type": "markdown",
   "id": "fe817eb2",
   "metadata": {},
   "source": [
    "## Create diffusion-weighted spin-echo sequence\n",
    "This step involves using the `MRIBuilder` package, a new package compatable with MCMRSimulator, designed for building generic sequences using optimisation tools. Here we will just use the `DiffusionSpinEcho()` function to create a DWSE sequence. For more generic use, see [its documentation](https://open.win.ox.ac.uk/pages/ndcn0236/mribuilder.jl/dev/) for more details.\n",
    "\n",
    "This step just uses built-in function `dwi()` of MCMRSimulator. It allows the user to set many parameters of the DWSE sequence. In our case, gradient_duration, gradient_strength, diffusion_time, TE, and TR were set. For a more detailed explanation and general use of the function, check the [MCMRSimulator tutorial](https://open.win.ox.ac.uk/pages/ndcn0236/mcmrsimulator.jl/v0.9/sequence/#sequence). Note in the later versions of MCMRSimulator, a new package `MRIBuilder` was created for building generic sequences using optimisation tools. See [its documentation](https://open.win.ox.ac.uk/pages/ndcn0236/mribuilder.jl/dev/) for more details."
   ]
  },
  {
   "cell_type": "code",
   "execution_count": null,
   "id": "4ed1de3b",
   "metadata": {},
   "outputs": [],
   "source": [
    "# Set sequence parameters\n",
    "axcaliber7T = Scanner(B0=7., gradient=1460, slew_rate=1e10, units=:Tesla) # Define the scanner hardware limits, gradient means maximum gradient strength (mT/m), set a very high slew rate so the ramp time is almost zero.\n",
    "TR=3000                 # ms\n",
    "TE=166                  # ms\n",
    "delta=2.5               # gradient duration (ms)\n",
    "g=1200                  # gradient strength (mT/m)\n",
    "gamma=0.00004257638476  # gyromagnetic ratio for proton (kHz/mT ̇1e-6), needed as dwi() takes gradient strength with kHz/μm unit\n",
    "Delta=20                # diffusion time (ms)\n",
    "\n",
    "# Create the sequence using DiffusionSpinEcho()\n",
    "seq = DiffusionSpinEcho(echo_time=TE, diffusion_time=Delta, gradient=(gradient_strength=[g*gamma, 0., 0.], duration=delta), scanner=axcaliber7T)\n",
    "write_sequence(\"example_output/seq_difftime_\"*@sprintf(\"%.1f\",Delta)*\"_gdur_\"*@sprintf(\"%.1f\",delta)*\".jld2\", seq, format=:serialize) # the sequence object can be saved for future uses \n"
   ]
  },
  {
   "cell_type": "markdown",
   "id": "702520b1-43ca-4779-91f7-eec4ba747468",
   "metadata": {},
   "source": [
    "It is also possible to plot the sequence diagram, note the diffusion-encoding gradients are not symmetric around the refocusing pulse because the MRIBuilder is set to maximise the time between the end of 2nd gradient and the readout to minimise the eddy current effects."
   ]
  },
  {
   "cell_type": "code",
   "execution_count": null,
   "id": "53e35ee3-3397-441c-aba4-1532930db5c5",
   "metadata": {},
   "outputs": [],
   "source": [
    "f = plot_sequence(seq)\n",
    "f"
   ]
  },
  {
   "cell_type": "markdown",
   "id": "bcd16785",
   "metadata": {},
   "source": [
    "## Run the simulation and generate signal\n",
    "Now we have both the substrate and sequence, we can run the simulation by calling the `Simulation()` constructor and get a readout of the final signal level using the `readout()` function. For more details about `readout()`, check the [MCMRSimulator tutorial](https://open.win.ox.ac.uk/pages/ndcn0236/mcmrsimulator.jl/v0.11/tutorial_julia/#Simple-signal-readouts)."
   ]
  },
  {
   "cell_type": "code",
   "execution_count": null,
   "id": "95f7cb81",
   "metadata": {},
   "outputs": [],
   "source": [
    "# Construct the simulation object with Simulation() and our sequence (seq) and substrate (fixed_d_cyl) objects as inputs, diffusivity value can be changed depending on the substrate\n",
    "d = 2.3     # intrinsic diffusivity (μm^2/ms)\n",
    "sim = Simulation(seq, diffusivity=d, geometry=fixed_d_cyl) # fixed_d_cyl can be replaced by distr_d_cyl\n",
    "\n",
    "# Use readout() to obtain the signal level given a certain number of isochromats, the bounding box defines the region of interest, an appropriate size is set to be relevant to the repetition scale of the substrate (rep) without including too many cylinders and significantly slowing down the simulation. The subset argument allows us to obtain signals from different parts of the substrate geometry (inside cylinders, outside cylinders, total signal).\n",
    "sz = rep*2                                    # Scale of bounding box (i.e. volume of interest), here the volume is cubic so only one number is needed to characterise it.\n",
    "bbox = BoundingBox([-sz,-sz,-sz],[sz,sz,sz])  # Create the bounding box (cuboid) by setting its lower and upper vertices along the diagonal.\n",
    "n_isochromat = 1000                           # number of isochromats, larger number can lead to lower noise floor level but will slow down the simulation.\n",
    "sig = readout(n_isochromat, sim, bounding_box=bbox, subset=[Subset(inside=true), Subset(inside=false), Subset()])  # Unless specified otherwise, readout() gives the signal at the time of TE with zero readout duration.\n",
    "\n",
    "# The output signal can be written to a csv file and analysed later in python or other language/software, note transverse() is applied to the simulated signal as we can only read the transverse signal in reality.\n",
    "println(transverse.(sig))\n",
    "writedlm(\"example_output/signal_MT_\"*@sprintf(\"%d\",T2)*\"_sus_0_perm_\"*@sprintf(\"%.3f\",perm)*\"_rmean_\"*@sprintf(\"%.2f\",r)*\"_density_0.65.csv\", transverse.(sig), ',')"
   ]
  },
  {
   "cell_type": "markdown",
   "id": "d2f35dbd",
   "metadata": {},
   "source": [
    "Create a function that takes MT, permeability and b values as input and returns the signal and write it to a file"
   ]
  },
  {
   "cell_type": "markdown",
   "id": "532cc1e9-fc7b-4896-aa04-c247c25c48f6",
   "metadata": {},
   "source": [
    "# Exploring MT and permeability's effect on the signal level\n",
    "We can now incorporate all the above into a function `simulate_mt_perm()` that runs a single simulation for a given pair of MT and permeability values and print the resulting trasverse signal. MT strength is defined by the effective T2 (in ms) of the additional relaxation it induces and permeability is defined by probability (0-1) for an isochromat to pass through the cylinder wall when they encounter. Feel free to play around with different MT and permeability values or even change the sequence parameters."
   ]
  },
  {
   "cell_type": "code",
   "execution_count": null,
   "id": "3e6fbeee-740f-4826-bc46-30f00e032a2f",
   "metadata": {},
   "outputs": [],
   "source": [
    "function simulate_mt_perm(mt=0,                 # Effective T2 (ms), non-negative\n",
    "                        permeability=0;         # probability (0-1) for an isochromat to pass through the cylinder wall when they encounter\n",
    "                        diffusivity = 2.3,      # intrinsic diffusivity (μm^2/ms)\n",
    "                        TR=3000,                 # ms\n",
    "                        TE=166,                  # ms\n",
    "                        delta=2.5,               # gradient duration (ms)\n",
    "                        g=1200,                  # gradient strength (mT/m)\n",
    "                        gamma=0.00004257638476,  # gyromagnetic ratio for proton (kHz/mT ̇1e-6), needed as dwi() takes gradient strength with kHz/μm unit\n",
    "                        Delta=20,                # diffusion time (ms)\n",
    "                        rho = 0.65,              # cylinder volume density\n",
    "                        r = 1,                   # mean cylinder radius (μm)\n",
    "                        r_var = 0               # variance of cylinder radius (μm^2)\n",
    "    )\n",
    "    @assert mt>=0 \"MT effective T2 needs to be non-negative!\"\n",
    "    @assert permeability>=0 && permeability<=1 \"Permeability needs to be between 0 and 1!\"\n",
    "    rep = r*20                        # (half of) the distance over which the substrate repeats itself spatially\n",
    "    T2_bound = 1e-3                   # Bound pool T2 to model surface relaxivity (ms)\n",
    "    t_dwell = 30                      # Dwell time of isochromats in the bound pool, controls the strength of surface relaxivity\n",
    "    svratio = 2/r                     # Calculate the surface to volume ratio that is used to calculate the surface density later\n",
    "    surf_dens = 1/svratio*t_dwell/T2  # Surface density of isochromats that achieves the given T2, it's the ratio of isochromat density on the substrate (cylinder) and isochromat density in the volume of interest\n",
    "    \n",
    "    # Create a substrate with parallel cylinders of distributed diameters \n",
    "    res = MCMRSimulator.random_positions_radii([rep, rep], rho, 2, mean=r, variance=r_var, max_iter=1000, repulsion_strength=1e-2)                                       # generate cylinder center positions and radii following the mean and variance\n",
    "    distr_d_cyl = Cylinders(position=res[1], radius=res[2], dwell_time=t_dwell, density=surf_dens, permeability=perm, repeats=[rep, rep], R2_surface=1/T2_bound)         # create the cylinders object with refined positions\n",
    "    MCMRSimulator.write_geometry(\"example_output/cylinders_MT_\"* string(T2) *\"_sus_0_perm_\"*@sprintf(\"%.3f\",perm)*\"_rmean_\"*@sprintf(\"%.2f\",r)*\"_density_0.65.json\", distr_d_cyl)      # save the object as a .json file to be read by MCMRSimulator later \n",
    "    # Create the DWSE sequence\n",
    "    axcaliber7T = Scanner(B0=7., gradient=1460, slew_rate=1e10, units=:Tesla) # Define the scanner hardware limits, gradient means maximum gradient strength (mT/m).\n",
    "    seq = DiffusionSpinEcho(echo_time=TE, diffusion_time=Delta, gradient=(gradient_strength=[g*gamma, 0., 0.], duration=delta), scanner=axcaliber7T)\n",
    "    write_sequence(\"example_output/seq_difftime_\"*@sprintf(\"%.2f\",Delta)*\"_gdur_\"*@sprintf(\"%.2f\",delta)*\".jld2\", seq, format=:serialize)      # save the sequence object for future uses \n",
    "    \n",
    "    # Form the simulation object\n",
    "    sim = Simulation(seq, diffusivity=diffusivity, geometry=distr_d_cyl) \n",
    "\n",
    "    # Use readout() to obtain the signal level given a certain number of isochromats, the bounding box defines the region of interest, an appropriate size is set to be relevant to the repetition scale of the substrate (rep) without including too many cylinders and significantly slowing down the simulation. The subset argument allows us to obtain signals from different parts of the substrate geometry (inside cylinders, outside cylinders, total signal).\n",
    "    sz = rep*2                                    # Scale of bounding box (i.e. volume of interest), here the volume is cubic so only one number is needed to characterise it.\n",
    "    bbox = BoundingBox([-sz,-sz,-sz],[sz,sz,sz])  # Create the bounding box (cuboid) by setting its lower and upper vertices along the diagonal.\n",
    "    n_isochromat = 1000                           # number of isochromats, larger number can lead to lower noise floor level but will slow down the simulation.\n",
    "    sig = readout(n_isochromat, sim, bounding_box=bbox, subset=[Subset(inside=true), Subset(inside=false), Subset()])  # Unless specified otherwise, readout() gives the signal at the time of TE with zero readout duration.\n",
    "    \n",
    "    # The output signal can be written to a csv file and analysed later in python or other language/software, note transverse() is applied to the simulated signal as we can only read the transverse signal in reality.\n",
    "    println(transverse.(sig)/n_isochromat) # Print the diffusion weighted attenuation for the intra-axonal, extra-axonal compartments and the total attenuation.\n",
    "    writedlm(\"example_output/signal_MT_\"*@sprintf(\"%d\",T2)*\"_sus_0_perm_\"*@sprintf(\"%.3f\",perm)*\"_rmean_\"*@sprintf(\"%.2f\",r)*\"_density_0.65.csv\", transverse.(sig), ',')\n",
    "end"
   ]
  },
  {
   "cell_type": "code",
   "execution_count": null,
   "id": "3f155d9e-c18c-405a-b114-3db34800333f",
   "metadata": {},
   "outputs": [],
   "source": [
    "simulate_mt_perm(100, 0.001)"
   ]
  },
  {
   "cell_type": "code",
   "execution_count": null,
   "id": "a37c0aca-9de5-432e-9699-c36568b9b2e6",
   "metadata": {},
   "outputs": [],
   "source": []
  }
 ],
 "metadata": {
  "kernelspec": {
   "display_name": "Julia 1.11.5",
   "language": "julia",
   "name": "julia-1.11"
  },
  "language_info": {
   "file_extension": ".jl",
   "mimetype": "application/julia",
   "name": "julia",
   "version": "1.11.5"
  }
 },
 "nbformat": 4,
 "nbformat_minor": 5
}
